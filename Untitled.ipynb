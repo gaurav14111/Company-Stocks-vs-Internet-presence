{
 "cells": [
  {
   "cell_type": "code",
   "execution_count": 2,
   "metadata": {},
   "outputs": [],
   "source": [
    "import urllib3\n",
    "import json\n",
    "import datetime\n",
    "import time\n",
    "import pytz\n",
    "import pandas as pd\n",
    "from pandas import DataFrame\n",
    "\n"
   ]
  },
  {
   "cell_type": "code",
   "execution_count": 7,
   "metadata": {},
   "outputs": [
    {
     "ename": "IndentationError",
     "evalue": "unexpected unindent (<ipython-input-7-7da43e89a131>, line 27)",
     "output_type": "error",
     "traceback": [
      "\u001b[0;36m  File \u001b[0;32m\"<ipython-input-7-7da43e89a131>\"\u001b[0;36m, line \u001b[0;32m27\u001b[0m\n\u001b[0;31m    df[\"title\"] = df[\"title\"].map(lambda x: x.translate(dict.fromkeys([0x201c, 0x201d, 0x2011, 0x2013, 0x2014, 0x2018, 0x2019, 0x2026, 0x2032])).encode('utf-8').replace(',',''))\u001b[0m\n\u001b[0m                                                                                                                                                                                 ^\u001b[0m\n\u001b[0;31mIndentationError\u001b[0m\u001b[0;31m:\u001b[0m unexpected unindent\n"
     ]
    }
   ],
   "source": [
    "ts = str(int(time.time()))\n",
    "df = DataFrame()\n",
    "hitsPerPage = 1000\n",
    "requested_keys = [\"title\",\"url\",\"points\",\"num_comments\",\"author\",\"created_at_i\",\"objectID\"]\n",
    "\n",
    "i = 0\n",
    "\n",
    "while True:\n",
    "\ttry:\n",
    "\t\turl = 'https://hn.algolia.com/api/v1/search_by_date?tags=story&hitsPerPage=%s&numericFilters=created_at_i<%s' % (hitsPerPage, ts)\n",
    "\t\treq = urllib2.Request(url)\n",
    "\t\tresponse = urllib2.urlopen(req)\n",
    "\t\tdata = json.loads(response.read())\n",
    "\t\tlast = data[\"nbHits\"] < hitsPerPage\n",
    "\t\tdata = DataFrame(data[\"hits\"])[requested_keys]\n",
    "\t\tdf = df.append(data,ignore_index=True)\n",
    "\t\tts = data.created_at_i.min()\n",
    "\t\tprint (i)\n",
    "\t\tif (last):\n",
    "\t\t\tbreak\n",
    "\t\ttime.sleep(3.6)\n",
    "\t\ti += 1\n",
    "\n",
    "# \texcept Exception e:\n",
    "# \t\tprint (e)\n",
    "\n",
    "df[\"title\"] = df[\"title\"].map(lambda x: x.translate(dict.fromkeys([0x201c, 0x201d, 0x2011, 0x2013, 0x2014, 0x2018, 0x2019, 0x2026, 0x2032])).encode('utf-8').replace(',',''))\n",
    "df[\"created_at\"] = df[\"created_at_i\"].map(lambda x: datetime.datetime.fromtimestamp(int(x), tz=pytz.timezone('America/New_York')).strftime('%Y-%m-%d %H:%M:%S'))\n",
    "\n",
    "ordered_df = df[[\"title\",\"url\",\"points\",\"num_comments\",\"author\",\"created_at\",\"objectID\"]]\n",
    "\n",
    "ordered_df.to_csv(\"hacker_news_stories.csv\",encoding='utf-8', index=False)"
   ]
  },
  {
   "cell_type": "code",
   "execution_count": null,
   "metadata": {},
   "outputs": [],
   "source": []
  }
 ],
 "metadata": {
  "kernelspec": {
   "display_name": "Python 3",
   "language": "python",
   "name": "python3"
  },
  "language_info": {
   "codemirror_mode": {
    "name": "ipython",
    "version": 3
   },
   "file_extension": ".py",
   "mimetype": "text/x-python",
   "name": "python",
   "nbconvert_exporter": "python",
   "pygments_lexer": "ipython3",
   "version": "3.6.7"
  }
 },
 "nbformat": 4,
 "nbformat_minor": 2
}
